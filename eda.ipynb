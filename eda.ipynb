{
 "metadata": {
  "language_info": {
   "codemirror_mode": {
    "name": "ipython",
    "version": 3
   },
   "file_extension": ".py",
   "mimetype": "text/x-python",
   "name": "python",
   "nbconvert_exporter": "python",
   "pygments_lexer": "ipython3",
   "version": "3.8.6-final"
  },
  "orig_nbformat": 2,
  "kernelspec": {
   "name": "python3",
   "display_name": "Python 3"
  }
 },
 "nbformat": 4,
 "nbformat_minor": 2,
 "cells": [
  {
   "cell_type": "code",
   "execution_count": 124,
   "metadata": {},
   "outputs": [],
   "source": [
    "from collections import Counter\n",
    "import re\n",
    "import pandas as pd \n",
    "import numpy as np\n",
    "from sklearn.ensemble import RandomForestRegressor\n",
    "from sklearn.model_selection import RandomizedSearchCV\n",
    "from category_encoders import OrdinalEncoder\n",
    "from sklearn.pipeline import make_pipeline\n",
    "from sklearn.model_selection import train_test_split\n",
    "from sklearn.metrics import mean_absolute_error\n",
    "import math\n"
   ]
  },
  {
   "cell_type": "code",
   "execution_count": 126,
   "metadata": {},
   "outputs": [],
   "source": [
    "df = pd.read_csv('./data/la_listings_edited.csv')\n",
    "pd.set_option('display.max_rows', 50)\n",
    "pd.set_option('display.max_columns', 50)\n"
   ]
  },
  {
   "cell_type": "code",
   "execution_count": 128,
   "metadata": {},
   "outputs": [],
   "source": [
    "# Create a list of filtering conditions to apply them all at the end\n",
    "cond_list=[]"
   ]
  },
  {
   "source": [
    "### Filter listings to the most common property types:\n",
    "```\n",
    "['Entire apartment',\n",
    " 'Entire house',\n",
    " 'Private room in house',\n",
    " 'Private room in apartment',\n",
    " 'Entire guesthouse',\n",
    " 'Entire condominium',\n",
    " 'Entire guest suite',\n",
    " 'Entire serviced apartment',\n",
    " 'Entire bungalow',\n",
    " 'Private room in condominium',\n",
    " 'Shared room in house',\n",
    " 'Private room in townhouse',\n",
    " 'Entire townhouse',\n",
    " 'Entire villa',\n",
    " 'Entire loft']\n",
    " ```\n",
    " \n",
    "\n"
   ],
   "cell_type": "markdown",
   "metadata": {}
  },
  {
   "cell_type": "code",
   "execution_count": 130,
   "metadata": {},
   "outputs": [],
   "source": [
    "# Create condition to filter out unnessesary property_types\n",
    "pr_type_filter = list(pd.crosstab(df['property_type'], 'count').sort_values('count', ascending=False).head(15).index)\n",
    "pr_type_condition = df['property_type'].apply(lambda x: True if x in pr_type_filter else False)\n",
    "cond_list.append(pr_type_condition)"
   ]
  },
  {
   "source": [
    "### Filter listing to the City of Los Angeles area\n"
   ],
   "cell_type": "markdown",
   "metadata": {}
  },
  {
   "cell_type": "code",
   "execution_count": 132,
   "metadata": {},
   "outputs": [],
   "source": [
    "# Create condition to filter out locations beyond City of Los Angeles\n",
    "location_condition = df['neighborhood'] == 'City of Los Angeles'\n",
    "cond_list.append(location_condition)"
   ]
  },
  {
   "source": [
    "### Apply conditions to the data"
   ],
   "cell_type": "markdown",
   "metadata": {}
  },
  {
   "cell_type": "code",
   "execution_count": 134,
   "metadata": {},
   "outputs": [],
   "source": [
    "df = df[pr_type_condition][location_condition].dropna()"
   ]
  },
  {
   "source": [
    "### Make TV and FM"
   ],
   "cell_type": "markdown",
   "metadata": {}
  },
  {
   "cell_type": "code",
   "execution_count": 136,
   "metadata": {},
   "outputs": [],
   "source": [
    "X=df[['latitude', 'longitude','property_type','accommodates','bathrooms_text','bedrooms','beds']]\n",
    "y=df['price']"
   ]
  },
  {
   "source": [
    "### Make train/test split"
   ],
   "cell_type": "markdown",
   "metadata": {}
  },
  {
   "cell_type": "code",
   "execution_count": 137,
   "metadata": {},
   "outputs": [],
   "source": [
    "X_train, X_test, y_train, y_test = train_test_split(X,y,test_size=0.2,random_state=42)"
   ]
  },
  {
   "source": [
    "### Establish baseline estimation"
   ],
   "cell_type": "markdown",
   "metadata": {}
  },
  {
   "cell_type": "code",
   "execution_count": 138,
   "metadata": {},
   "outputs": [],
   "source": [
    "baseline = y.mean()"
   ]
  },
  {
   "source": [
    "### Fit Random Forest Regressor model"
   ],
   "cell_type": "markdown",
   "metadata": {}
  },
  {
   "cell_type": "code",
   "execution_count": 139,
   "metadata": {},
   "outputs": [
    {
     "output_type": "execute_result",
     "data": {
      "text/plain": [
       "Pipeline(steps=[('ordinalencoder',\n",
       "                 OrdinalEncoder(cols=['property_type', 'bathrooms_text'],\n",
       "                                mapping=[{'col': 'property_type',\n",
       "                                          'data_type': dtype('O'),\n",
       "                                          'mapping': Entire house                    1\n",
       "Entire loft                     2\n",
       "Entire apartment                3\n",
       "Private room in apartment       4\n",
       "Private room in house           5\n",
       "Shared room in house            6\n",
       "Entire guesthouse               7\n",
       "Entire guest suite              8\n",
       "Entire condominium              9\n",
       "Entire bungalow                10\n",
       "Entire townhouse               11\n",
       "Private room i...\n",
       "5 shared baths       23\n",
       "8.5 baths            24\n",
       "7 baths              25\n",
       "6 baths              26\n",
       "7.5 baths            27\n",
       "Half-bath            28\n",
       "0 shared baths       29\n",
       "8.5 shared baths     30\n",
       "8 baths              31\n",
       "9.5 baths            32\n",
       "10 baths             33\n",
       "4.5 shared baths     34\n",
       "0 baths              35\n",
       "6 shared baths       36\n",
       "9 baths              37\n",
       "Private half-bath    38\n",
       "11 shared baths      39\n",
       "NaN                  -2\n",
       "dtype: int64}])),\n",
       "                ('randomforestregressor',\n",
       "                 RandomForestRegressor(max_features='log2', min_samples_split=8,\n",
       "                                       n_estimators=82, n_jobs=-1,\n",
       "                                       random_state=42))])"
      ]
     },
     "metadata": {},
     "execution_count": 139
    }
   ],
   "source": [
    "model = make_pipeline(\n",
    "    OrdinalEncoder(),\n",
    "    RandomForestRegressor(n_estimators=82, min_samples_split=8, max_features='log2',n_jobs=-1, random_state=42)\n",
    ")\n",
    "model.fit(X_train,y_train)"
   ]
  },
  {
   "cell_type": "code",
   "execution_count": 140,
   "metadata": {},
   "outputs": [
    {
     "output_type": "stream",
     "name": "stdout",
     "text": [
      "Baseline MAE: 143.04131711024746\nModel MAE: 72.64348539014685\n"
     ]
    }
   ],
   "source": [
    "#Baseline MAE\n",
    "print(f'Baseline MAE: {mean_absolute_error(y_test, [baseline]*len(y_test))}')\n",
    "#MAE of the model\n",
    "print(f'Model MAE: {mean_absolute_error(y_test, model.predict(X_test))}')"
   ]
  },
  {
   "source": [
    "### Optimize the model"
   ],
   "cell_type": "markdown",
   "metadata": {}
  },
  {
   "cell_type": "code",
   "execution_count": 141,
   "metadata": {},
   "outputs": [],
   "source": [
    "# dir(model.named_steps['randomforestregressor'])\n",
    "# params={'randomforestregressor__n_estimators': range(20,150),\n",
    "#         'randomforestregressor__min_samples_split': range(5,20),\n",
    "#         'randomforestregressor__max_features': [\"auto\", \"sqrt\", \"log2\"]}\n",
    "\n",
    "# search=RandomizedSearchCV(\n",
    "#     estimator=model,\n",
    "#     param_distributions=params,\n",
    "#     n_iter=100,\n",
    "#     n_jobs=-1,\n",
    "#     verbose=1\n",
    "# ).fit(X,y)\n"
   ]
  },
  {
   "source": [
    "### search.best_params_\n",
    "\n",
    "{'randomforestregressor__n_estimators': 82,<br>\n",
    " 'randomforestregressor__min_samples_split': 8,<br>\n",
    " 'randomforestregressor__max_features': 'log2'}"
   ],
   "cell_type": "markdown",
   "metadata": {}
  },
  {
   "source": [
    "### Build model that utilizes vector similarity to make estimations"
   ],
   "cell_type": "markdown",
   "metadata": {}
  },
  {
   "cell_type": "code",
   "execution_count": 142,
   "metadata": {},
   "outputs": [],
   "source": [
    "# Ordinal encoding X\n",
    "encoder = OrdinalEncoder().fit(X)\n",
    "X_enc = encoder.transform(X)"
   ]
  },
  {
   "cell_type": "code",
   "execution_count": 143,
   "metadata": {},
   "outputs": [],
   "source": [
    "def vector_sim_predict(case, X, y_true, n_closest=5):\n",
    "    closest = []\n",
    "    result = []\n",
    "    for i in range(len(X)):\n",
    "        vec1, vec2 = X[i], case\n",
    "        distance =  math.sqrt(sum((vec1-vec2)**2))\n",
    "        closest.append((i,distance))\n",
    "    closest = sorted(closest, key=lambda item: item[1])[:n_closest-1]\n",
    "    for item in closest:\n",
    "        result.append(y_true[item[0]])\n",
    "    \n",
    "    return sum(result)/len(result)"
   ]
  },
  {
   "cell_type": "code",
   "execution_count": 144,
   "metadata": {},
   "outputs": [
    {
     "output_type": "execute_result",
     "data": {
      "text/plain": [
       "       latitude  longitude  property_type  accommodates  bathrooms_text  \\\n",
       "1      34.09768 -118.34602              1             1               1   \n",
       "6      33.98750 -118.43200              2             4               2   \n",
       "7      34.09521 -118.34801              1             1               1   \n",
       "9      34.11543 -118.26090              3             4               2   \n",
       "11     33.99638 -118.47734              1             1               3   \n",
       "...         ...        ...            ...           ...             ...   \n",
       "30959  34.14580 -118.40546              5             6               4   \n",
       "30964  34.23760 -118.43913              2             3               2   \n",
       "30987  34.10187 -118.36438              2             6               4   \n",
       "31089  34.10659 -118.33817              5             2               2   \n",
       "31409  34.19202 -118.58867              2            10               4   \n",
       "\n",
       "       bedrooms  beds  \n",
       "1           1.0   1.0  \n",
       "6           2.0   2.0  \n",
       "7           1.0   2.0  \n",
       "9           1.0   2.0  \n",
       "11          1.0   1.0  \n",
       "...         ...   ...  \n",
       "30959       2.0   3.0  \n",
       "30964       2.0   2.0  \n",
       "30987       3.0   3.0  \n",
       "31089       1.0   1.0  \n",
       "31409       3.0   7.0  \n",
       "\n",
       "[10042 rows x 7 columns]"
      ],
      "text/html": "<div>\n<style scoped>\n    .dataframe tbody tr th:only-of-type {\n        vertical-align: middle;\n    }\n\n    .dataframe tbody tr th {\n        vertical-align: top;\n    }\n\n    .dataframe thead th {\n        text-align: right;\n    }\n</style>\n<table border=\"1\" class=\"dataframe\">\n  <thead>\n    <tr style=\"text-align: right;\">\n      <th></th>\n      <th>latitude</th>\n      <th>longitude</th>\n      <th>property_type</th>\n      <th>accommodates</th>\n      <th>bathrooms_text</th>\n      <th>bedrooms</th>\n      <th>beds</th>\n    </tr>\n  </thead>\n  <tbody>\n    <tr>\n      <th>1</th>\n      <td>34.09768</td>\n      <td>-118.34602</td>\n      <td>1</td>\n      <td>1</td>\n      <td>1</td>\n      <td>1.0</td>\n      <td>1.0</td>\n    </tr>\n    <tr>\n      <th>6</th>\n      <td>33.98750</td>\n      <td>-118.43200</td>\n      <td>2</td>\n      <td>4</td>\n      <td>2</td>\n      <td>2.0</td>\n      <td>2.0</td>\n    </tr>\n    <tr>\n      <th>7</th>\n      <td>34.09521</td>\n      <td>-118.34801</td>\n      <td>1</td>\n      <td>1</td>\n      <td>1</td>\n      <td>1.0</td>\n      <td>2.0</td>\n    </tr>\n    <tr>\n      <th>9</th>\n      <td>34.11543</td>\n      <td>-118.26090</td>\n      <td>3</td>\n      <td>4</td>\n      <td>2</td>\n      <td>1.0</td>\n      <td>2.0</td>\n    </tr>\n    <tr>\n      <th>11</th>\n      <td>33.99638</td>\n      <td>-118.47734</td>\n      <td>1</td>\n      <td>1</td>\n      <td>3</td>\n      <td>1.0</td>\n      <td>1.0</td>\n    </tr>\n    <tr>\n      <th>...</th>\n      <td>...</td>\n      <td>...</td>\n      <td>...</td>\n      <td>...</td>\n      <td>...</td>\n      <td>...</td>\n      <td>...</td>\n    </tr>\n    <tr>\n      <th>30959</th>\n      <td>34.14580</td>\n      <td>-118.40546</td>\n      <td>5</td>\n      <td>6</td>\n      <td>4</td>\n      <td>2.0</td>\n      <td>3.0</td>\n    </tr>\n    <tr>\n      <th>30964</th>\n      <td>34.23760</td>\n      <td>-118.43913</td>\n      <td>2</td>\n      <td>3</td>\n      <td>2</td>\n      <td>2.0</td>\n      <td>2.0</td>\n    </tr>\n    <tr>\n      <th>30987</th>\n      <td>34.10187</td>\n      <td>-118.36438</td>\n      <td>2</td>\n      <td>6</td>\n      <td>4</td>\n      <td>3.0</td>\n      <td>3.0</td>\n    </tr>\n    <tr>\n      <th>31089</th>\n      <td>34.10659</td>\n      <td>-118.33817</td>\n      <td>5</td>\n      <td>2</td>\n      <td>2</td>\n      <td>1.0</td>\n      <td>1.0</td>\n    </tr>\n    <tr>\n      <th>31409</th>\n      <td>34.19202</td>\n      <td>-118.58867</td>\n      <td>2</td>\n      <td>10</td>\n      <td>4</td>\n      <td>3.0</td>\n      <td>7.0</td>\n    </tr>\n  </tbody>\n</table>\n<p>10042 rows × 7 columns</p>\n</div>"
     },
     "metadata": {},
     "execution_count": 144
    }
   ],
   "source": [
    "X_enc"
   ]
  },
  {
   "cell_type": "code",
   "execution_count": 156,
   "metadata": {},
   "outputs": [
    {
     "output_type": "execute_result",
     "data": {
      "text/plain": [
       "118.33333333333333"
      ]
     },
     "metadata": {},
     "execution_count": 156
    }
   ],
   "source": [
    "vector_sim_predict(np.array(X_enc)[3], np.array(X_enc), np.array(y), n_closest=4)"
   ]
  },
  {
   "cell_type": "code",
   "execution_count": 146,
   "metadata": {},
   "outputs": [
    {
     "output_type": "execute_result",
     "data": {
      "text/plain": [
       "1      71.0\n",
       "6     125.0\n",
       "7      73.0\n",
       "9      89.0\n",
       "11     85.0\n",
       "13     74.0\n",
       "15    195.0\n",
       "17    155.0\n",
       "19    289.0\n",
       "20    425.0\n",
       "Name: price, dtype: float64"
      ]
     },
     "metadata": {},
     "execution_count": 146
    }
   ],
   "source": [
    "y.head(10)"
   ]
  }
 ]
}