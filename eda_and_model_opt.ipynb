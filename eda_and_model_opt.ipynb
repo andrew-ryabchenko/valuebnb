{
 "metadata": {
  "language_info": {
   "codemirror_mode": {
    "name": "ipython",
    "version": 3
   },
   "file_extension": ".py",
   "mimetype": "text/x-python",
   "name": "python",
   "nbconvert_exporter": "python",
   "pygments_lexer": "ipython3",
   "version": "3.8.6-final"
  },
  "orig_nbformat": 2,
  "kernelspec": {
   "name": "python3",
   "display_name": "Python 3",
   "language": "python"
  }
 },
 "nbformat": 4,
 "nbformat_minor": 2,
 "cells": [
  {
   "cell_type": "code",
   "execution_count": 1,
   "metadata": {},
   "outputs": [],
   "source": [
    "from collections import Counter\n",
    "import re\n",
    "import pandas as pd \n",
    "import numpy as np\n",
    "from sklearn.ensemble import RandomForestRegressor\n",
    "from sklearn.model_selection import RandomizedSearchCV\n",
    "from category_encoders import OrdinalEncoder\n",
    "from sklearn.pipeline import make_pipeline\n",
    "from sklearn.model_selection import train_test_split\n",
    "from sklearn.metrics import mean_absolute_error\n",
    "import math\n"
   ]
  },
  {
   "cell_type": "code",
   "execution_count": 2,
   "metadata": {},
   "outputs": [],
   "source": [
    "df = pd.read_csv('./data/la_listings_edited.csv')\n",
    "pd.set_option('display.max_rows', 50)\n",
    "pd.set_option('display.max_columns', 50)\n"
   ]
  },
  {
   "cell_type": "code",
   "execution_count": 3,
   "metadata": {},
   "outputs": [],
   "source": [
    "# Create a list of filtering conditions to apply them all at the end\n",
    "cond_list=[]"
   ]
  },
  {
   "source": [
    "### Filter listings to the most common property types:\n",
    "```\n",
    "['Entire apartment',\n",
    " 'Entire house',\n",
    " 'Private room in house',\n",
    " 'Private room in apartment',\n",
    " 'Entire guesthouse',\n",
    " 'Entire condominium',\n",
    " 'Entire guest suite',\n",
    " 'Entire serviced apartment',\n",
    " 'Entire bungalow',\n",
    " 'Private room in condominium',\n",
    " 'Shared room in house',\n",
    " 'Private room in townhouse',\n",
    " 'Entire townhouse',\n",
    " 'Entire villa',\n",
    " 'Entire loft']\n",
    " ```\n",
    " \n",
    "\n"
   ],
   "cell_type": "markdown",
   "metadata": {}
  },
  {
   "cell_type": "code",
   "execution_count": 4,
   "metadata": {},
   "outputs": [],
   "source": [
    "# Create condition to filter out unnessesary property_types\n",
    "pr_type_filter = list(pd.crosstab(df['property_type'], 'count').sort_values('count', ascending=False).head(15).index)\n",
    "pr_type_condition = df['property_type'].apply(lambda x: True if x in pr_type_filter else False)\n",
    "cond_list.append(pr_type_condition)"
   ]
  },
  {
   "source": [
    "### Filter listing to the City of Los Angeles area\n"
   ],
   "cell_type": "markdown",
   "metadata": {}
  },
  {
   "cell_type": "code",
   "execution_count": 5,
   "metadata": {},
   "outputs": [],
   "source": [
    "# Create condition to filter out locations beyond City of Los Angeles\n",
    "location_condition = df['neighborhood'] == 'City of Los Angeles'\n",
    "cond_list.append(location_condition)"
   ]
  },
  {
   "source": [
    "### Apply conditions to the data"
   ],
   "cell_type": "markdown",
   "metadata": {}
  },
  {
   "cell_type": "code",
   "execution_count": 6,
   "metadata": {},
   "outputs": [],
   "source": [
    "df = df[pr_type_condition][location_condition].dropna()"
   ]
  },
  {
   "source": [
    "### Make TV and FM"
   ],
   "cell_type": "markdown",
   "metadata": {}
  },
  {
   "cell_type": "code",
   "execution_count": 7,
   "metadata": {},
   "outputs": [],
   "source": [
    "X=df[['latitude', 'longitude','property_type','accommodates','bathrooms_text','bedrooms','beds']]\n",
    "y=df['price']"
   ]
  },
  {
   "source": [
    "### Make train/test split"
   ],
   "cell_type": "markdown",
   "metadata": {}
  },
  {
   "cell_type": "code",
   "execution_count": 8,
   "metadata": {},
   "outputs": [],
   "source": [
    "X_train, X_test, y_train, y_test = train_test_split(X,y,test_size=0.2,random_state=42)"
   ]
  },
  {
   "source": [
    "### Establish baseline estimation"
   ],
   "cell_type": "markdown",
   "metadata": {}
  },
  {
   "cell_type": "code",
   "execution_count": 9,
   "metadata": {},
   "outputs": [],
   "source": [
    "baseline = y.mean()"
   ]
  },
  {
   "source": [
    "### Fit Random Forest Regressor model"
   ],
   "cell_type": "markdown",
   "metadata": {}
  },
  {
   "cell_type": "code",
   "execution_count": 10,
   "metadata": {},
   "outputs": [
    {
     "output_type": "execute_result",
     "data": {
      "text/plain": [
       "Pipeline(steps=[('ordinalencoder',\n",
       "                 OrdinalEncoder(cols=['property_type', 'bathrooms_text'],\n",
       "                                mapping=[{'col': 'property_type',\n",
       "                                          'data_type': dtype('O'),\n",
       "                                          'mapping': Entire house                    1\n",
       "Entire loft                     2\n",
       "Entire apartment                3\n",
       "Private room in apartment       4\n",
       "Private room in house           5\n",
       "Shared room in house            6\n",
       "Entire guesthouse               7\n",
       "Entire guest suite              8\n",
       "Entire condominium              9\n",
       "Entire bungalow                10\n",
       "Entire townhouse               11\n",
       "Private room i...\n",
       "5 shared baths       23\n",
       "8.5 baths            24\n",
       "7 baths              25\n",
       "6 baths              26\n",
       "7.5 baths            27\n",
       "Half-bath            28\n",
       "0 shared baths       29\n",
       "8.5 shared baths     30\n",
       "8 baths              31\n",
       "9.5 baths            32\n",
       "10 baths             33\n",
       "4.5 shared baths     34\n",
       "0 baths              35\n",
       "6 shared baths       36\n",
       "9 baths              37\n",
       "Private half-bath    38\n",
       "11 shared baths      39\n",
       "NaN                  -2\n",
       "dtype: int64}])),\n",
       "                ('randomforestregressor',\n",
       "                 RandomForestRegressor(max_features='log2',\n",
       "                                       min_samples_split=10, n_estimators=139,\n",
       "                                       n_jobs=-1, random_state=42))])"
      ]
     },
     "metadata": {},
     "execution_count": 10
    }
   ],
   "source": [
    "model = make_pipeline(\n",
    "    OrdinalEncoder(),\n",
    "    RandomForestRegressor(n_estimators=139, min_samples_split=10, max_features='log2',n_jobs=-1, random_state=42)\n",
    ")\n",
    "model.fit(X_train,y_train)"
   ]
  },
  {
   "cell_type": "code",
   "execution_count": 11,
   "metadata": {},
   "outputs": [
    {
     "output_type": "stream",
     "name": "stdout",
     "text": [
      "Baseline MAE: 143.04131711024746\nModel MAE: 72.90024079786362\n"
     ]
    }
   ],
   "source": [
    "#Baseline MAE\n",
    "print(f'Baseline MAE: {mean_absolute_error(y_test, [baseline]*len(y_test))}')\n",
    "#MAE of the model\n",
    "print(f'Model MAE: {mean_absolute_error(y_test, model.predict(X_test))}')"
   ]
  },
  {
   "source": [
    "### Optimize the model"
   ],
   "cell_type": "markdown",
   "metadata": {}
  },
  {
   "cell_type": "code",
   "execution_count": 12,
   "metadata": {},
   "outputs": [],
   "source": [
    "# dir(model.named_steps['randomforestregressor'])\n",
    "# params={'randomforestregressor__n_estimators': range(20,150),\n",
    "#         'randomforestregressor__min_samples_split': range(5,20),\n",
    "#         'randomforestregressor__max_features': [\"auto\", \"sqrt\", \"log2\"]}\n",
    "\n",
    "# search=RandomizedSearchCV(\n",
    "#     estimator=model,\n",
    "#     param_distributions=params,\n",
    "#     n_iter=100,\n",
    "#     n_jobs=-1,\n",
    "#     verbose=1\n",
    "# ).fit(X,y)\n"
   ]
  },
  {
   "source": [
    "### search.best_params_\n",
    "\n",
    "{'randomforestregressor__n_estimators': 139,<br>\n",
    " 'randomforestregressor__min_samples_split': 10,<br>\n",
    " 'randomforestregressor__max_features': 'log2'}"
   ],
   "cell_type": "markdown",
   "metadata": {}
  },
  {
   "source": [
    "### Build model that utilizes vector similarity to make estimations"
   ],
   "cell_type": "markdown",
   "metadata": {}
  },
  {
   "cell_type": "code",
   "execution_count": 13,
   "metadata": {},
   "outputs": [],
   "source": [
    "# Ordinal encoding X\n",
    "encoder = OrdinalEncoder().fit(X_train)\n",
    "X_train_enc = encoder.transform(X_train)\n",
    "X_test_enc = encoder.transform(X_test)"
   ]
  },
  {
   "cell_type": "code",
   "execution_count": 14,
   "metadata": {},
   "outputs": [],
   "source": [
    "class VectorSimilarity:\n",
    "    def __init__(self):\n",
    "        return\n",
    "    \n",
    "    # Pass training data and convert it to the instance of numpy.ndarray\n",
    "    def fit(self, X, y):\n",
    "        if (isinstance(X, np.ndarray)):\n",
    "            self.X = X\n",
    "        else:\n",
    "            self.X = np.array(X)\n",
    "        \n",
    "        if (isinstance(y, np.ndarray)):\n",
    "            self.y = y\n",
    "        else:\n",
    "            self.y = np.array(y)\n",
    "\n",
    "    # Makes single prediction\n",
    "    def predict(self, case, n_closest=5):\n",
    "        \"\"\"Returns average value of corrensponding target values of `n_closest` vectorized instances in training data\"\"\"\n",
    "        \n",
    "        if (not isinstance(case, np.ndarray)):\n",
    "            case = np.array(case)\n",
    "        # Sanity check\n",
    "        assert len(case.shape)==1, '`case` parameter must be one dimensional array'\n",
    "        # Init. empty containers\n",
    "        distances = []\n",
    "        closest = []\n",
    "        # Compare `case` vector to all vectors in training data\n",
    "        for i in range(len(self.X)):\n",
    "            vec1, vec2 = self.X[i], case\n",
    "            distance =  math.sqrt(sum((vec1-vec2)**2))\n",
    "            distances.append((i,distance))\n",
    "        closest = sorted(distances, key=lambda item: item[1])[:n_closest-1]\n",
    "        # Get target values for `n_closest` vectorized instances in training data\n",
    "        result = [self.y[item[0]] for item in closest]\n",
    "        # Return average value of `result`\n",
    "        return sum(result)/len(result)\n",
    "\n",
    "\n",
    "    def predict_all(self, cases, n_closest=5):\n",
    "        \"\"\"Makes predictions for series of vectors\"\"\"\n",
    "        n = n_closest\n",
    "        if (not isinstance(cases, np.ndarray)):\n",
    "            cases = np.array(cases)\n",
    "        return np.array([self.predict(case, n_closest=n) for case in cases])\n",
    "\n"
   ]
  },
  {
   "cell_type": "code",
   "execution_count": 15,
   "metadata": {},
   "outputs": [],
   "source": [
    "obj = VectorSimilarity()\n",
    "obj.fit(X_train_enc, y_train)"
   ]
  },
  {
   "cell_type": "code",
   "execution_count": 16,
   "metadata": {},
   "outputs": [],
   "source": [
    "predictions = obj.predict_all(X_test_enc, n_closest=30)"
   ]
  },
  {
   "cell_type": "code",
   "execution_count": 17,
   "metadata": {},
   "outputs": [
    {
     "output_type": "stream",
     "name": "stdout",
     "text": [
      "VectorSimilarity MAE: 83.22098831122021\n"
     ]
    }
   ],
   "source": [
    "print(f'VectorSimilarity MAE: {mean_absolute_error(y_test, predictions)}')"
   ]
  },
  {
   "cell_type": "code",
   "execution_count": null,
   "metadata": {},
   "outputs": [],
   "source": []
  }
 ]
}