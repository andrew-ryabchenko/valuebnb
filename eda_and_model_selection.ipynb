{
 "metadata": {
  "language_info": {
   "codemirror_mode": {
    "name": "ipython",
    "version": 3
   },
   "file_extension": ".py",
   "mimetype": "text/x-python",
   "name": "python",
   "nbconvert_exporter": "python",
   "pygments_lexer": "ipython3",
   "version": "3.8.6-final"
  },
  "orig_nbformat": 2,
  "kernelspec": {
   "name": "python3",
   "display_name": "Python 3"
  }
 },
 "nbformat": 4,
 "nbformat_minor": 2,
 "cells": [
  {
   "cell_type": "code",
   "execution_count": 51,
   "metadata": {},
   "outputs": [],
   "source": [
    "import pandas as pd \n",
    "import numpy as np\n"
   ]
  },
  {
   "cell_type": "code",
   "execution_count": 52,
   "metadata": {},
   "outputs": [],
   "source": [
    "df = pd.read_csv('./data/la_listings_edited.csv')\n",
    "pd.set_option('display.max_rows', 50)\n",
    "pd.set_option('display.max_columns', 50)\n"
   ]
  },
  {
   "cell_type": "code",
   "execution_count": 53,
   "metadata": {},
   "outputs": [],
   "source": [
    "# Create a list of filtering conditions to apply them all at the end\n",
    "cond_list=[]"
   ]
  },
  {
   "source": [
    "### Filter listings to the most common property types:\n",
    "```\n",
    "['Entire apartment',\n",
    " 'Entire house',\n",
    " 'Private room in house',\n",
    " 'Private room in apartment',\n",
    " 'Entire guesthouse',\n",
    " 'Entire condominium',\n",
    " 'Entire guest suite',\n",
    " 'Entire serviced apartment',\n",
    " 'Entire bungalow',\n",
    " 'Private room in condominium',\n",
    " 'Shared room in house',\n",
    " 'Private room in townhouse',\n",
    " 'Entire townhouse',\n",
    " 'Entire villa',\n",
    " 'Entire loft']\n",
    " ```\n",
    " \n",
    "\n"
   ],
   "cell_type": "markdown",
   "metadata": {}
  },
  {
   "cell_type": "code",
   "execution_count": 54,
   "metadata": {},
   "outputs": [],
   "source": [
    "# Create list of property_types to keep in datasets\n",
    "pr_type_filter = list(pd.crosstab(df['property_type'], 'count').sort_values('count', ascending=False).head(15).index)\n",
    "pr_type_condition = df['property_type'].apply(lambda x: True if x in pr_type_filter else False)\n",
    "cond_list.append(pr_type_condition)\n",
    "\n"
   ]
  },
  {
   "cell_type": "code",
   "execution_count": 55,
   "metadata": {},
   "outputs": [
    {
     "output_type": "execute_result",
     "data": {
      "text/plain": [
       "     id                        listing_url  \\\n",
       "0   109   https://www.airbnb.com/rooms/109   \n",
       "1  2708  https://www.airbnb.com/rooms/2708   \n",
       "2  2732  https://www.airbnb.com/rooms/2732   \n",
       "3  2864  https://www.airbnb.com/rooms/2864   \n",
       "4  5728  https://www.airbnb.com/rooms/5728   \n",
       "\n",
       "                                         picture_url  \\\n",
       "0  https://a0.muscache.com/pictures/4321499/1da98...   \n",
       "1  https://a0.muscache.com/pictures/miso/Hosting-...   \n",
       "2  https://a0.muscache.com/pictures/1082974/0f74c...   \n",
       "3  https://a0.muscache.com/pictures/23817858/de20...   \n",
       "4  https://a0.muscache.com/pictures/7a29d275-f293...   \n",
       "\n",
       "                                 host_url         neighborhood  latitude  \\\n",
       "0   https://www.airbnb.com/users/show/521         Other Cities  33.98209   \n",
       "1  https://www.airbnb.com/users/show/3008  City of Los Angeles  34.09768   \n",
       "2  https://www.airbnb.com/users/show/3041         Other Cities  34.00475   \n",
       "3  https://www.airbnb.com/users/show/3207         Other Cities  33.87619   \n",
       "4  https://www.airbnb.com/users/show/9171  City of Los Angeles  33.98750   \n",
       "\n",
       "   longitude               property_type  accommodates  bathrooms_text  \\\n",
       "0 -118.38494          Entire condominium             6         2 baths   \n",
       "1 -118.34602   Private room in apartment             1       1.5 baths   \n",
       "2 -118.48127   Private room in apartment             1  1 private bath   \n",
       "3 -118.11397            Entire apartment             2          1 bath   \n",
       "4 -118.43200  Private room in tiny house             2   1 shared bath   \n",
       "\n",
       "   bedrooms  beds                                          amenities  price  \\\n",
       "0       2.0   3.0  [\"Elevator\", \"Cable TV\", \"Air conditioning\", \"...  115.0   \n",
       "1       1.0   1.0  [\"Host greets you\", \"Elevator\", \"Air condition...   71.0   \n",
       "2       1.0   1.0  [\"Cooking basics\", \"Host greets you\", \"Smoke a...  155.0   \n",
       "3       1.0   1.0  [\"Host greets you\", \"Air conditioning\", \"Carbo...   50.0   \n",
       "4       1.0   1.0  [\"Lock on bedroom door\", \"Fire extinguisher\", ...   60.0   \n",
       "\n",
       "   minimum_nights  maximum_nights calendar_last_scraped  \\\n",
       "0              30             730             11/3/2020   \n",
       "1              30             366             11/4/2020   \n",
       "2               1             180             11/3/2020   \n",
       "3              30             730             11/4/2020   \n",
       "4              30            1125             11/3/2020   \n",
       "\n",
       "   review_scores_accuracy  review_scores_cleanliness  review_scores_checkin  \\\n",
       "0                    10.0                       10.0                    6.0   \n",
       "1                    10.0                       10.0                   10.0   \n",
       "2                     9.0                        9.0                    9.0   \n",
       "3                     NaN                        NaN                    NaN   \n",
       "4                    10.0                       10.0                   10.0   \n",
       "\n",
       "   review_scores_communication  review_scores_location  review_scores_value  \n",
       "0                          8.0                    10.0                  8.0  \n",
       "1                         10.0                    10.0                 10.0  \n",
       "2                          9.0                    10.0                  9.0  \n",
       "3                          NaN                     NaN                  NaN  \n",
       "4                         10.0                    10.0                  9.0  "
      ],
      "text/html": "<div>\n<style scoped>\n    .dataframe tbody tr th:only-of-type {\n        vertical-align: middle;\n    }\n\n    .dataframe tbody tr th {\n        vertical-align: top;\n    }\n\n    .dataframe thead th {\n        text-align: right;\n    }\n</style>\n<table border=\"1\" class=\"dataframe\">\n  <thead>\n    <tr style=\"text-align: right;\">\n      <th></th>\n      <th>id</th>\n      <th>listing_url</th>\n      <th>picture_url</th>\n      <th>host_url</th>\n      <th>neighborhood</th>\n      <th>latitude</th>\n      <th>longitude</th>\n      <th>property_type</th>\n      <th>accommodates</th>\n      <th>bathrooms_text</th>\n      <th>bedrooms</th>\n      <th>beds</th>\n      <th>amenities</th>\n      <th>price</th>\n      <th>minimum_nights</th>\n      <th>maximum_nights</th>\n      <th>calendar_last_scraped</th>\n      <th>review_scores_accuracy</th>\n      <th>review_scores_cleanliness</th>\n      <th>review_scores_checkin</th>\n      <th>review_scores_communication</th>\n      <th>review_scores_location</th>\n      <th>review_scores_value</th>\n    </tr>\n  </thead>\n  <tbody>\n    <tr>\n      <th>0</th>\n      <td>109</td>\n      <td>https://www.airbnb.com/rooms/109</td>\n      <td>https://a0.muscache.com/pictures/4321499/1da98...</td>\n      <td>https://www.airbnb.com/users/show/521</td>\n      <td>Other Cities</td>\n      <td>33.98209</td>\n      <td>-118.38494</td>\n      <td>Entire condominium</td>\n      <td>6</td>\n      <td>2 baths</td>\n      <td>2.0</td>\n      <td>3.0</td>\n      <td>[\"Elevator\", \"Cable TV\", \"Air conditioning\", \"...</td>\n      <td>115.0</td>\n      <td>30</td>\n      <td>730</td>\n      <td>11/3/2020</td>\n      <td>10.0</td>\n      <td>10.0</td>\n      <td>6.0</td>\n      <td>8.0</td>\n      <td>10.0</td>\n      <td>8.0</td>\n    </tr>\n    <tr>\n      <th>1</th>\n      <td>2708</td>\n      <td>https://www.airbnb.com/rooms/2708</td>\n      <td>https://a0.muscache.com/pictures/miso/Hosting-...</td>\n      <td>https://www.airbnb.com/users/show/3008</td>\n      <td>City of Los Angeles</td>\n      <td>34.09768</td>\n      <td>-118.34602</td>\n      <td>Private room in apartment</td>\n      <td>1</td>\n      <td>1.5 baths</td>\n      <td>1.0</td>\n      <td>1.0</td>\n      <td>[\"Host greets you\", \"Elevator\", \"Air condition...</td>\n      <td>71.0</td>\n      <td>30</td>\n      <td>366</td>\n      <td>11/4/2020</td>\n      <td>10.0</td>\n      <td>10.0</td>\n      <td>10.0</td>\n      <td>10.0</td>\n      <td>10.0</td>\n      <td>10.0</td>\n    </tr>\n    <tr>\n      <th>2</th>\n      <td>2732</td>\n      <td>https://www.airbnb.com/rooms/2732</td>\n      <td>https://a0.muscache.com/pictures/1082974/0f74c...</td>\n      <td>https://www.airbnb.com/users/show/3041</td>\n      <td>Other Cities</td>\n      <td>34.00475</td>\n      <td>-118.48127</td>\n      <td>Private room in apartment</td>\n      <td>1</td>\n      <td>1 private bath</td>\n      <td>1.0</td>\n      <td>1.0</td>\n      <td>[\"Cooking basics\", \"Host greets you\", \"Smoke a...</td>\n      <td>155.0</td>\n      <td>1</td>\n      <td>180</td>\n      <td>11/3/2020</td>\n      <td>9.0</td>\n      <td>9.0</td>\n      <td>9.0</td>\n      <td>9.0</td>\n      <td>10.0</td>\n      <td>9.0</td>\n    </tr>\n    <tr>\n      <th>3</th>\n      <td>2864</td>\n      <td>https://www.airbnb.com/rooms/2864</td>\n      <td>https://a0.muscache.com/pictures/23817858/de20...</td>\n      <td>https://www.airbnb.com/users/show/3207</td>\n      <td>Other Cities</td>\n      <td>33.87619</td>\n      <td>-118.11397</td>\n      <td>Entire apartment</td>\n      <td>2</td>\n      <td>1 bath</td>\n      <td>1.0</td>\n      <td>1.0</td>\n      <td>[\"Host greets you\", \"Air conditioning\", \"Carbo...</td>\n      <td>50.0</td>\n      <td>30</td>\n      <td>730</td>\n      <td>11/4/2020</td>\n      <td>NaN</td>\n      <td>NaN</td>\n      <td>NaN</td>\n      <td>NaN</td>\n      <td>NaN</td>\n      <td>NaN</td>\n    </tr>\n    <tr>\n      <th>4</th>\n      <td>5728</td>\n      <td>https://www.airbnb.com/rooms/5728</td>\n      <td>https://a0.muscache.com/pictures/7a29d275-f293...</td>\n      <td>https://www.airbnb.com/users/show/9171</td>\n      <td>City of Los Angeles</td>\n      <td>33.98750</td>\n      <td>-118.43200</td>\n      <td>Private room in tiny house</td>\n      <td>2</td>\n      <td>1 shared bath</td>\n      <td>1.0</td>\n      <td>1.0</td>\n      <td>[\"Lock on bedroom door\", \"Fire extinguisher\", ...</td>\n      <td>60.0</td>\n      <td>30</td>\n      <td>1125</td>\n      <td>11/3/2020</td>\n      <td>10.0</td>\n      <td>10.0</td>\n      <td>10.0</td>\n      <td>10.0</td>\n      <td>10.0</td>\n      <td>9.0</td>\n    </tr>\n  </tbody>\n</table>\n</div>"
     },
     "metadata": {},
     "execution_count": 55
    }
   ],
   "source": [
    "df.head()\n"
   ]
  },
  {
   "cell_type": "code",
   "execution_count": null,
   "metadata": {},
   "outputs": [],
   "source": [
    "pd.crosstab(df['property_type'], 'count').sort_values('count', ascending=False)"
   ]
  }
 ]
}